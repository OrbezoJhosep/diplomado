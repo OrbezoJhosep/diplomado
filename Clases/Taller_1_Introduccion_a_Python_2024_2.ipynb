{
  "cells": [
    {
      "cell_type": "markdown",
      "metadata": {
        "id": "BRH1h-qCNX4Z"
      },
      "source": [
        "# Taller 1: Introducción a Python"
      ]
    },
    {
      "cell_type": "markdown",
      "metadata": {
        "id": "S7svBB2hNad4"
      },
      "source": [
        "## 1.1. Python básico"
      ]
    },
    {
      "cell_type": "code",
      "execution_count": null,
      "metadata": {
        "id": "hZTOTsOdOszV"
      },
      "outputs": [],
      "source": [
        "# Presione ctrl + Enter para ejecutar la celda\n",
        "5"
      ]
    },
    {
      "cell_type": "code",
      "execution_count": null,
      "metadata": {
        "id": "F2X4MAcjO1tj"
      },
      "outputs": [],
      "source": [
        "# Python tiene ya definidas las 4 operaciones básicas. Asimismo, también tiene el residuo (%) y la potencia (**)\n",
        "5 + 5"
      ]
    },
    {
      "cell_type": "code",
      "execution_count": null,
      "metadata": {
        "id": "2L-zVvIoTb2n"
      },
      "outputs": [],
      "source": [
        "# Python también tiene definido las operaciones igual (==)/diferente (!=)/mayor (>)/menor (<)/mayor-igual (>=)/menor-igual(<=)\n",
        "# Para comparar dos valores o expresiones. Nótese que la igualdad es doble =, no uno solo\n",
        "5 == 5"
      ]
    },
    {
      "cell_type": "code",
      "execution_count": null,
      "metadata": {
        "id": "x0gy26jjTb2n"
      },
      "outputs": [],
      "source": [
        "# También tiene los operadores logicos AND (&) y OR (|)\n",
        "# No olvidar poner paréntesis entre las expresiones\n",
        "(5==5)&(6>3)"
      ]
    },
    {
      "cell_type": "code",
      "execution_count": null,
      "metadata": {
        "id": "MDk4Ftm2PzHk"
      },
      "outputs": [],
      "source": [
        "# Se puede guardar el resultado de una operación o un valor específico en una variable\n",
        "variable1 = 5\n",
        "variable2 = 5 + 5"
      ]
    },
    {
      "cell_type": "code",
      "execution_count": null,
      "metadata": {
        "id": "aOE-My4AQFOM"
      },
      "outputs": [],
      "source": [
        "# Se puede imprimir el valor de una variable de diferentes maneras:\n",
        "print(f'Variable 2 = {variable2}')"
      ]
    },
    {
      "cell_type": "markdown",
      "metadata": {
        "id": "0IHMGTsCzwUI"
      },
      "source": [
        "### Ejercicio:\n",
        "Guarde el valor de 5^2 + 1 en una variable llamada variable3 e imprima su valor."
      ]
    },
    {
      "cell_type": "code",
      "execution_count": null,
      "metadata": {
        "id": "jYBgSMIH0G-u"
      },
      "outputs": [],
      "source": [
        "# Su respuesta\n"
      ]
    },
    {
      "cell_type": "markdown",
      "metadata": {
        "id": "Dl2uaW2I0NgZ"
      },
      "source": [
        "## 1.2. Listas"
      ]
    },
    {
      "cell_type": "code",
      "execution_count": null,
      "metadata": {
        "id": "8ssKMY5GQ68J"
      },
      "outputs": [],
      "source": [
        "# Python puede almacenar más de 1 dato en 1 variable. Para ello, se usan listas\n",
        "lista = [1, 2, 3, 4]\n",
        "print(lista)"
      ]
    },
    {
      "cell_type": "code",
      "execution_count": null,
      "metadata": {
        "id": "beS1HzSGRFaP"
      },
      "outputs": [],
      "source": [
        "# Una lista puede contener distintos tipos de datos\n",
        "lista2 = [1, 1.2, 'Hola mundo']\n",
        "print(lista2)"
      ]
    },
    {
      "cell_type": "code",
      "execution_count": null,
      "metadata": {
        "id": "m9g3RAcLSbHx"
      },
      "outputs": [],
      "source": [
        "# Se puede acceder a un elemento de la lista usando el operador [<numero_elemento>]. La numeracion va de 0 hasta N-1 elementos.\n",
        "print(f'1er elemento de la lista: {lista[0]}')\n",
        "print(f'2do elemento de la lista: {lista[1]}')"
      ]
    },
    {
      "cell_type": "code",
      "execution_count": null,
      "metadata": {
        "id": "JCpi6pmqS_Iu"
      },
      "outputs": [],
      "source": [
        "# Se puede acceder a un rango de elementos de la lista usando [<inicio>:<fin>]. Incluye todo elemento en el intervalo [<inicio>; <fin>[ (intervalo abierto al cierre)\n",
        "print(f'2do al 3er elemento de la lista {lista[1:3]}') # No incluye el 4"
      ]
    },
    {
      "cell_type": "code",
      "execution_count": null,
      "metadata": {
        "id": "qFmIMlyvxtpM"
      },
      "outputs": [],
      "source": [
        "# Se puede crear una lista enumerando uno a uno sus elementos\n",
        "lista_ext = [1, 2, 3, 4, 5, 6, 7, 8, 9, 10]\n",
        "lista_ext"
      ]
    },
    {
      "cell_type": "code",
      "execution_count": null,
      "metadata": {
        "id": "g4nkb3Uax9nq"
      },
      "outputs": [],
      "source": [
        "# Se puede crear una lista numérica con elementos consecutivos por comprensión\n",
        "lista_comp = [x for x in range(1,11,1)]\n",
        "lista_comp"
      ]
    },
    {
      "cell_type": "code",
      "execution_count": null,
      "metadata": {
        "id": "0pDAJvNfTb2p"
      },
      "outputs": [],
      "source": [
        "# Podemos obtener la cantidad de elementos en una lista con la funcion len\n",
        "len(lista_comp)"
      ]
    },
    {
      "cell_type": "code",
      "execution_count": null,
      "metadata": {
        "id": "sg56OP5xRa6k"
      },
      "outputs": [],
      "source": [
        "# Las listas pueden ser concatenadas (se pone lista2 al final de lista1)\n",
        "lista_concat = lista + lista2\n",
        "print(f'Lista 1: {lista}')\n",
        "print(f'Lista 2: {lista2}')\n",
        "print(f'Lista concatenada: {lista_concat}')"
      ]
    },
    {
      "cell_type": "code",
      "execution_count": null,
      "metadata": {
        "id": "_3eZFq-XzRJq"
      },
      "outputs": [],
      "source": [
        "# Se puede añadir un elemento a una lista usando la función append\n",
        "lista_concat.append('Hola a todos')\n",
        "lista_concat"
      ]
    },
    {
      "cell_type": "code",
      "execution_count": null,
      "metadata": {
        "id": "84ZhFqPaSDlj"
      },
      "outputs": [],
      "source": [
        "# Se puede quitar elementos de una lista\n",
        "# Remove(elemento) quita la primera repetición del elemento\n",
        "lista_concat.remove('Hola a todos')\n",
        "lista_concat"
      ]
    },
    {
      "cell_type": "markdown",
      "metadata": {
        "id": "yM2Et6At0XXl"
      },
      "source": [
        "### Ejercicio\n",
        "1.   Cree una lista llamada lista_A que contenga los números del 1 al 5.\n",
        "2.   Cree una lista llamada lista_B que contenga los números del 5 al 9.\n",
        "3.   Cree una lista llamada lista_AB que concatene lista_B a lista_A.\n",
        "4.   Añada un 10 a lista_AB.\n",
        "5.   Elimine un 5 de lista_AB"
      ]
    },
    {
      "cell_type": "code",
      "execution_count": null,
      "metadata": {
        "id": "lHX29VXP1DSG"
      },
      "outputs": [],
      "source": [
        "# Su respuesta\n",
        "lista_A=[x for x in range(1,6,1)]\n",
        "lista_B=[x for x in range(5,10,1)]\n",
        "\n",
        "lista_AB= lista_A + lista_B\n",
        "lista_AB.append(10)\n",
        "lista_AB.remove(5)\n",
        "print(lista_AB)"
      ]
    },
    {
      "cell_type": "markdown",
      "metadata": {
        "id": "XuOGfG-5Ne65"
      },
      "source": [
        "## 1.3. Pandas"
      ]
    },
    {
      "cell_type": "markdown",
      "metadata": {
        "id": "S8zDjeJU4zcA"
      },
      "source": [
        "Pandas es una librería que permite trabajar con datos de diferentes tipos en una sola estructura tabular. Si alguien está familiarizado con R, trae el concepto de Dataframe a Python. Esta librería posee un sinfín de funciones auxiliares que permiten procesar datos muy facilmente."
      ]
    },
    {
      "cell_type": "code",
      "execution_count": null,
      "metadata": {
        "id": "SxvcHZ6gNW9I"
      },
      "outputs": [],
      "source": [
        "# Importamos la librería\n",
        "import pandas as pd"
      ]
    },
    {
      "cell_type": "markdown",
      "metadata": {
        "id": "sr0V2lbA7YIW"
      },
      "source": [
        "El primer paso es leer un conjunto de datos. Ciertamente, esto se puede hacer de varias formas. Una de ellas, es leer un archivo CSV. En este caso, descargaremos el archivo de\n",
        "https://raw.githubusercontent.com/selva86/datasets/master/Auto.csv"
      ]
    },
    {
      "cell_type": "code",
      "execution_count": null,
      "metadata": {
        "id": "IYcDjDTo7uGo"
      },
      "outputs": [],
      "source": [
        "# url = \"https://raw.githubusercontent.com/selva86/datasets/master/Auto.csv\"\n",
        "\n",
        "# El método \"read_csv\" nos permite leer un csv\n",
        "dataset = pd.read_csv('Auto.csv')"
      ]
    },
    {
      "cell_type": "markdown",
      "metadata": {
        "id": "q-4wZL5v8RPr"
      },
      "source": [
        "El dataset se carga en un tipo de dato llamado DataFrame, que tiene una estructura tabular como veremos a continuación."
      ]
    },
    {
      "cell_type": "code",
      "execution_count": null,
      "metadata": {
        "id": "SPCRT47-Tb21"
      },
      "outputs": [],
      "source": [
        "# Podemos ver las dimensiones del dataset leido usando shape\n",
        "dataset.shape"
      ]
    },
    {
      "cell_type": "code",
      "execution_count": null,
      "metadata": {
        "id": "ZEo2JHwt73bP"
      },
      "outputs": [],
      "source": [
        "# Usamos el método head() para leer los primeros 5 registros\n",
        "dataset.head()"
      ]
    },
    {
      "cell_type": "markdown",
      "metadata": {
        "id": "gNuDIvPdZlsI"
      },
      "source": [
        "A cada registro, le llamaremos fila (row), observación o registro. En el ejemplo anterior, podemos ver las primeras 5 filas de un dataset que tiene 392 filas. <br>\n",
        "Asimismo, a cada característica medida le llamaremos columna (column), característica o feature. En este caso, tenemos 9 columnas: mpg, cylinders, displacement, horsepower, weight, acceleration, year, origin y name."
      ]
    },
    {
      "cell_type": "markdown",
      "metadata": {
        "id": "tr0wWCuXALCG"
      },
      "source": [
        "Podemos obtener cierta informacion sobre el dataframe"
      ]
    },
    {
      "cell_type": "code",
      "execution_count": null,
      "metadata": {
        "id": "pa5IXfxNATPj"
      },
      "outputs": [],
      "source": [
        "# Podemos ver informacion basica de cada columna\n",
        "dataset.info()"
      ]
    },
    {
      "cell_type": "code",
      "execution_count": null,
      "metadata": {
        "id": "ULxPVFw4AYeO"
      },
      "outputs": [],
      "source": [
        "# Listado de columnas:\n",
        "list(dataset.columns)"
      ]
    },
    {
      "cell_type": "markdown",
      "metadata": {
        "id": "2hLBItOyAdvg"
      },
      "source": [
        "Existe una serie de funciones de seleccion de filas/columnas"
      ]
    },
    {
      "cell_type": "code",
      "execution_count": null,
      "metadata": {
        "id": "pBSgr8bP8Jyd"
      },
      "outputs": [],
      "source": [
        "# Podemos seleccionar un par de columnas\n",
        "dataset[['mpg','cylinders']].head()"
      ]
    },
    {
      "cell_type": "code",
      "execution_count": null,
      "metadata": {
        "id": "mTCJokVU8c3U"
      },
      "outputs": [],
      "source": [
        "# Si seleccionamos una sola columna, se devuelve el tipo de dato Series\n",
        "dataset['mpg']"
      ]
    },
    {
      "cell_type": "code",
      "execution_count": null,
      "metadata": {
        "id": "cbMin9akAjUq"
      },
      "outputs": [],
      "source": [
        "# Valores distintos en cada columna\n",
        "dataset['name'].value_counts()"
      ]
    },
    {
      "cell_type": "code",
      "execution_count": null,
      "metadata": {
        "id": "vgoYb7bqAyO7"
      },
      "outputs": [],
      "source": [
        "# Si queremos traer una fila en funcion de su indice:\n",
        "dataset.iloc[1]"
      ]
    },
    {
      "cell_type": "code",
      "execution_count": null,
      "metadata": {
        "id": "AU8uEv21Azi4"
      },
      "outputs": [],
      "source": [
        "# Si queremos traer todas las filas que satisfacen una condicion:\n",
        "dataset.loc[dataset['mpg']>17].head()"
      ]
    },
    {
      "cell_type": "code",
      "execution_count": null,
      "metadata": {
        "id": "Ms8dQyHCTb23"
      },
      "outputs": [],
      "source": [
        "# ... o más de una condicion\n",
        "dataset.loc[(dataset['mpg']>17)&(dataset['horsepower']>100)].head()"
      ]
    },
    {
      "cell_type": "code",
      "execution_count": null,
      "metadata": {
        "id": "BgPBXAM4Tb23"
      },
      "outputs": [],
      "source": [
        "# ...y de aquellas que cumplen una condición, podemos traer solo un conjunto limitado de columnas\n",
        "dataset.loc[(dataset['mpg']>17)&(dataset['horsepower']>100), ['mpg', 'cylinders']].head()"
      ]
    },
    {
      "cell_type": "markdown",
      "metadata": {
        "id": "UYGQ6eYdA2J4"
      },
      "source": [
        "Existen funciones que permiten modificar el dataframe"
      ]
    },
    {
      "cell_type": "code",
      "execution_count": null,
      "metadata": {
        "id": "yFx6-GN68mbk"
      },
      "outputs": [],
      "source": [
        "# Si queremos crear una columna:\n",
        "dataset['col1'] = '1'\n",
        "dataset.head()"
      ]
    },
    {
      "cell_type": "code",
      "execution_count": null,
      "metadata": {
        "id": "FLJmrIgr9dwe"
      },
      "outputs": [],
      "source": [
        "# Si queremos dropear una columna:\n",
        "dataset = dataset.drop(columns = ['col1'])\n",
        "dataset.head()"
      ]
    },
    {
      "cell_type": "code",
      "execution_count": null,
      "metadata": {
        "id": "EvVJ7h3z9mh0"
      },
      "outputs": [],
      "source": [
        "# Si queremos modificar una columna:\n",
        "dataset['origin'] = dataset['origin']*2\n",
        "dataset.head()"
      ]
    },
    {
      "cell_type": "code",
      "execution_count": null,
      "metadata": {
        "id": "Z-f5Av0O-vB8"
      },
      "outputs": [],
      "source": [
        "# Podemos modificar el valor de las columnas solamente en filas que cumplen cierta condicion\n",
        "# Por ejemplo, acá se fija en 20 el número de cilindros para los registros donde mpg > 17\n",
        "# En el resto de casos, los deja igual a como estaban originalmente.\n",
        "dataset.loc[dataset['mpg']>17, ['cylinders']] = 20\n",
        "dataset.loc[dataset['mpg']>17].head()"
      ]
    },
    {
      "cell_type": "code",
      "execution_count": null,
      "metadata": {
        "id": "RclIbq_K-B_s"
      },
      "outputs": [],
      "source": [
        "# Si queremos saber las estadisticas descriptivas de las columnas numericas\n",
        "dataset.describe()"
      ]
    },
    {
      "cell_type": "markdown",
      "metadata": {
        "id": "GFWUgLlSCcJS"
      },
      "source": [
        "### Ejercicios"
      ]
    },
    {
      "cell_type": "markdown",
      "metadata": {
        "id": "w8KGo1vgCd9q"
      },
      "source": [
        "Cargue el dataset Titanic, explórelo y responda las siguientes preguntas (incluya el código usado para llegar a la respuesta de cada pregunta)."
      ]
    },
    {
      "cell_type": "code",
      "execution_count": null,
      "metadata": {
        "id": "XZ0KgnQ0Ehzv"
      },
      "outputs": [],
      "source": [
        "import pandas as pd\n",
        "# Cargue el dataset\n"
      ]
    },
    {
      "cell_type": "markdown",
      "metadata": {
        "id": "no_xMiXqFA2a"
      },
      "source": [
        "Indique las dimensiones del dataset"
      ]
    },
    {
      "cell_type": "code",
      "execution_count": null,
      "metadata": {
        "id": "8CKQspsHFCuf"
      },
      "outputs": [],
      "source": [
        "# Su respuesta\n"
      ]
    },
    {
      "cell_type": "markdown",
      "metadata": {
        "id": "22CgAP_JFDjY"
      },
      "source": [
        "Muestre las primeras 5 columnas"
      ]
    },
    {
      "cell_type": "code",
      "execution_count": null,
      "metadata": {
        "id": "KBgEcSCIFLY5"
      },
      "outputs": [],
      "source": [
        "# Su respuesta\n"
      ]
    },
    {
      "cell_type": "markdown",
      "metadata": {
        "id": "QXPvkkAbDPIx"
      },
      "source": [
        "Muestre los estadísticos descriptivos del dataset"
      ]
    },
    {
      "cell_type": "code",
      "execution_count": null,
      "metadata": {
        "id": "aqN1L1PCDSUW"
      },
      "outputs": [],
      "source": [
        "# Su respuesta\n"
      ]
    },
    {
      "cell_type": "markdown",
      "metadata": {
        "id": "3lqUoq9YDWch"
      },
      "source": [
        "¿En qué columnas hay valores nulos?"
      ]
    },
    {
      "cell_type": "code",
      "execution_count": null,
      "metadata": {
        "id": "bNuq5w3lEevQ"
      },
      "outputs": [],
      "source": [
        "# Su respuesta\n"
      ]
    },
    {
      "cell_type": "markdown",
      "metadata": {
        "id": "8LiLFrfjC2NK"
      },
      "source": [
        "¿Cuántas personas de clase 1 no sobrevivieron?"
      ]
    },
    {
      "cell_type": "code",
      "execution_count": null,
      "metadata": {
        "id": "CRLKxfIKEmxJ"
      },
      "outputs": [],
      "source": [
        "# Su respuesta\n"
      ]
    },
    {
      "cell_type": "markdown",
      "metadata": {
        "id": "r9Hwb1_GEHnH"
      },
      "source": [
        "¿Cuántas mujeres mayores de 20 años sobrevivieron?"
      ]
    },
    {
      "cell_type": "code",
      "execution_count": null,
      "metadata": {
        "id": "3Lv01iMCEKvb"
      },
      "outputs": [],
      "source": [
        "# Su respuesta\n"
      ]
    },
    {
      "cell_type": "markdown",
      "metadata": {
        "id": "SZbVJwP8Essh"
      },
      "source": [
        "Hubo un error en la data recopilada: en realidad todos los pasajeros tenían 2 años más de lo que indican los registros. Modifique el DataFrame para que refleje esa corrección."
      ]
    },
    {
      "cell_type": "code",
      "execution_count": null,
      "metadata": {
        "id": "LL48p0odE6wk"
      },
      "outputs": [],
      "source": [
        "# Su respuesta\n"
      ]
    },
    {
      "cell_type": "markdown",
      "metadata": {
        "id": "n1ZFIINUFRuc"
      },
      "source": [
        "Por motivos de privacidad de datos, se le solicita eliminar la columna con los nombres de los pasajeros. Modifique su DataFrame para cumplir este requerimiento"
      ]
    },
    {
      "cell_type": "code",
      "execution_count": null,
      "metadata": {
        "id": "OUobqU7gFb-W"
      },
      "outputs": [],
      "source": [
        "# Su respuesta\n"
      ]
    },
    {
      "cell_type": "markdown",
      "metadata": {
        "id": "-wEYkK5L24-T"
      },
      "source": [
        "### Auto-estudio: Numpy\n",
        "Otra librería de mucha importancia es Pythos es NumPy. Se les deja un par de enlaces para que puedan ir familiarizandose con esta librería.\n",
        "\n",
        "\n",
        "*   https://andresfelipeocampo.medium.com/introducci%C3%B3n-a-numpy-808c6553d8d4\n",
        "*   https://aprendeconalf.es/docencia/python/manual/numpy/\n",
        "\n"
      ]
    },
    {
      "cell_type": "code",
      "execution_count": null,
      "metadata": {
        "id": "EzfrYULd4cn3"
      },
      "outputs": [],
      "source": []
    }
  ],
  "metadata": {
    "colab": {
      "provenance": []
    },
    "kernelspec": {
      "display_name": "Python 3",
      "language": "python",
      "name": "python3"
    },
    "language_info": {
      "codemirror_mode": {
        "name": "ipython",
        "version": 3
      },
      "file_extension": ".py",
      "mimetype": "text/x-python",
      "name": "python",
      "nbconvert_exporter": "python",
      "pygments_lexer": "ipython3",
      "version": "3.8.8"
    }
  },
  "nbformat": 4,
  "nbformat_minor": 0
}
