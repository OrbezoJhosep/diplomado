{
  "nbformat": 4,
  "nbformat_minor": 0,
  "metadata": {
    "colab": {
      "provenance": []
    },
    "kernelspec": {
      "name": "python3",
      "display_name": "Python 3"
    },
    "language_info": {
      "name": "python"
    }
  },
  "cells": [
    {
      "cell_type": "markdown",
      "source": [
        "<img src=\"https://www.python.org/static/img/python-logo.png\" width=\"300\" alt=\"Python logo\"  />\n",
        "<font color='blue'>\n",
        "$\\Large\\text{Pontificia Universidad Católica del Perú}$</font>"
      ],
      "metadata": {
        "id": "asFiW1FPxdid"
      }
    },
    {
      "cell_type": "markdown",
      "source": [
        "$$\\Large \\textit{Estadística Aplicada}$$\n",
        "\n",
        "$$\\large\\textbf{Trabajo Clase 04: Modelos de probabilidad discreta}$$\n",
        "\n",
        "Nombe alumno:_\n",
        "\n"
      ],
      "metadata": {
        "id": "lPfUyzulvj_S"
      }
    },
    {
      "cell_type": "markdown",
      "source": [
        "Desarrolle las siguientes preguntas haciendo uso de los modelos de probabilidad discreta aprendidos en clase. Será muy útil si se enfoca en las fórmulas de probabilidad, media y varianza de las diferentes distribuciones estudiadas. Puede desarrollar los ejercicios haciendo uso de los scripts en python mostrados en clase.\n",
        "\n",
        "**Nota:** para las preguntas 1 y 2 se recomienda estudiar la distribución binomial. Para la pregunta 3 se recomienda estudiar la distribución de Poisson. Para la pregunta 4 estudie la distribución hipergeométrica.\n"
      ],
      "metadata": {
        "id": "5p06NvX1oPfG"
      }
    },
    {
      "cell_type": "markdown",
      "source": [
        "### **Pregunta 1**\n",
        "La probabilidad de que un paciente se recupere de una enfermedad es 0.8. Suponga que se sabe que 20 personas han contraído la enfermedad. ¿Cuál es la probabilidad de que exactamente 14 se recuperen?  **(3 puntos)**\n"
      ],
      "metadata": {
        "id": "M3wJDaCryGsV"
      }
    },
    {
      "cell_type": "code",
      "source": [
        "# agregar codigo desde acá"
      ],
      "metadata": {
        "id": "BTyLmUy0ybZd"
      },
      "execution_count": null,
      "outputs": []
    },
    {
      "cell_type": "code",
      "source": [],
      "metadata": {
        "id": "F8nsOaphhPfc"
      },
      "execution_count": null,
      "outputs": []
    },
    {
      "cell_type": "code",
      "source": [
        ""
      ],
      "metadata": {
        "id": "nsqZ7SS_hPhz"
      },
      "execution_count": null,
      "outputs": []
    },
    {
      "cell_type": "code",
      "source": [],
      "metadata": {
        "id": "A9R26wHlhPkD"
      },
      "execution_count": null,
      "outputs": []
    },
    {
      "cell_type": "markdown",
      "source": [
        "### **Pregunta 2**\n",
        "Un examen de opción múltiple tiene 10 preguntas, cada una con 4 posibles respuestas, solo una de las cuales es correcta. Suponga que uno de los estudiantes que hace el examen contesta cada una de las preguntas con una adivinación aleatoria independiente.\n",
        "  *   ¿Cuál es la probabilidad de que conteste correctamente cero preguntas? **(2 puntos)**\n",
        "  *   ¿Cuál es la probabilidad de que conteste correctamente al menos 1 pregunta? **(3 puntos)**"
      ],
      "metadata": {
        "id": "1sD_yeUAtnAK"
      }
    },
    {
      "cell_type": "code",
      "source": [
        "# agregar codigo desde aca"
      ],
      "metadata": {
        "id": "ZuW2_Xrh1vrK"
      },
      "execution_count": null,
      "outputs": []
    },
    {
      "cell_type": "code",
      "source": [],
      "metadata": {
        "id": "KGSp3OErkUar"
      },
      "execution_count": null,
      "outputs": []
    },
    {
      "cell_type": "markdown",
      "source": [
        "### **Pregunta 3**\n",
        "Llegan clientes a un mostrador de salida en una tienda de acuerdo con una distribución de Poisson, a un promedio de 7 por hora. Durante una hora determinada.\n",
        "\n",
        "*   ¿Cuál es la probabilidad de que lleguen exactamente cinco clientes? **(3 puntos)**\n",
        "*   ¿Cuál es la probabilidad de que lleguen al menos dos clientes? **(3 puntos)**\n",
        "\n"
      ],
      "metadata": {
        "id": "CORbt63EBv6L"
      }
    },
    {
      "cell_type": "code",
      "source": [
        "# agregar codigo desde aca"
      ],
      "metadata": {
        "id": "vBWZdo6Rzolh"
      },
      "execution_count": null,
      "outputs": []
    },
    {
      "cell_type": "code",
      "source": [],
      "metadata": {
        "id": "7RM2j-McwiWD"
      },
      "execution_count": null,
      "outputs": []
    },
    {
      "cell_type": "code",
      "source": [],
      "metadata": {
        "id": "MN0U20M_wigE"
      },
      "execution_count": null,
      "outputs": []
    },
    {
      "cell_type": "markdown",
      "source": [
        "### **Pregunta 4**\n",
        "Un jurado de 6 personas fue seleccionado de entre un grupo de 20 miembros de jurado potenciales, de los cuales 8 eran afroamericanos y 12 de raza blanca. Si el proceso de selección fue aleatorio.\n",
        "\n",
        "*   ¿Cuáles serían la media y la varianza del número de afroamericanos seleccionados para el jurado? **(3 puntos)**\n",
        "*   ¿Cuál es la probabilidad de que el jurado contenga sólo un afroamericano? **(3 puntos)**\n"
      ],
      "metadata": {
        "id": "5W7eFj2j1TwJ"
      }
    },
    {
      "cell_type": "code",
      "source": [
        "# agregar codigo desde aca"
      ],
      "metadata": {
        "id": "N80AiUmb1mUv"
      },
      "execution_count": null,
      "outputs": []
    },
    {
      "cell_type": "code",
      "source": [],
      "metadata": {
        "id": "lTzsX4rl1mXI"
      },
      "execution_count": null,
      "outputs": []
    },
    {
      "cell_type": "code",
      "source": [],
      "metadata": {
        "id": "z5CgXJ9S1mlX"
      },
      "execution_count": null,
      "outputs": []
    }
  ]
}