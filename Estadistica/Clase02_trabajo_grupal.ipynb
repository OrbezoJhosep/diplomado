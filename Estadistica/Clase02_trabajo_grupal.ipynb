{
  "nbformat": 4,
  "nbformat_minor": 0,
  "metadata": {
    "colab": {
      "provenance": []
    },
    "kernelspec": {
      "name": "python3",
      "display_name": "Python 3"
    },
    "language_info": {
      "name": "python"
    }
  },
  "cells": [
    {
      "cell_type": "markdown",
      "source": [
        "<img src=\"https://www.python.org/static/img/python-logo.png\" width=\"300\" alt=\"Python logo\"  />\n",
        "<font color='blue'>\n",
        "$\\Large\\text{Pontificia Universidad Católica del Perú}$</font>"
      ],
      "metadata": {
        "id": "asFiW1FPxdid"
      }
    },
    {
      "cell_type": "markdown",
      "source": [
        "$$\\Large \\textit{Estadística Aplicada}$$\n",
        "\n",
        "$$\\large\\textbf{Exploración, Comprensión de Datos y Asociación entre variables}$$\n",
        "\n",
        "_Integrantes:_\n",
        "\n",
        "*   Alumno1\n",
        "*   Alumno2\n",
        "*   Alumno3\n",
        "___"
      ],
      "metadata": {
        "id": "lPfUyzulvj_S"
      }
    },
    {
      "cell_type": "markdown",
      "source": [
        "# Actividad grupal"
      ],
      "metadata": {
        "id": "MgD8-Ki_dqld"
      }
    },
    {
      "cell_type": "markdown",
      "source": [
        "Caso de estudio: **\"Base para campaña comerciales\"**\n",
        "\n",
        "La base de datos contiene información financiera de un grupo de clientes, donde se solicita realizar el siguiente mes una campaña comercial sobre buena venta de productos (vender a clientes que tienen buen comportamiento de pago). \n",
        "\n",
        "El gerente de ventas no sabe muy bien como son sus clientes en general, y requiere como primer paso realizar un analisis descriptivo de sus clientes, con ello poder sacar ideas sobre la campaña solicitada.\n",
        "\n",
        "\n",
        "Total de puntos (20 ptos)\n",
        "\n",
        "Indicaciones: \n",
        "1. Cargar la base de datos para la actividad. (3pto)\n",
        "\n",
        "2. Realizar el analisis descriptivo ( cantidad de registros, medias, percentiles, minimos, maximos, moda) interpretar los resultados. (4ptos)\n",
        " \n",
        "*   Seleccionar un grupo de variables (3 variables) a analizar y aplicarle los diferentes gráficos visto en clase (8 ptos)\n",
        "\n",
        "3. En funcion de los gráficos y estadisticos obtenidos, proporcione 3 insight, que pueden servir para pilotear una campaña comercial de venta de productos. (5 ptos).\n"
      ],
      "metadata": {
        "id": "5p06NvX1oPfG"
      }
    },
    {
      "cell_type": "markdown",
      "source": [
        "### **1. Lectura de una base de datos**\n"
      ],
      "metadata": {
        "id": "M3wJDaCryGsV"
      }
    },
    {
      "cell_type": "code",
      "source": [
        "import pandas as pd\n",
        "#visualizacion dataframe\n",
        "pd.options.display.max_rows=500\n",
        "pd.options.display.max_columns=500"
      ],
      "metadata": {
        "id": "wQHp33zstaAj"
      },
      "execution_count": null,
      "outputs": []
    },
    {
      "cell_type": "code",
      "source": [
        "from google.colab import files\n",
        "uploaded = files.upload()"
      ],
      "metadata": {
        "id": "xJwQXyMJyCFi"
      },
      "execution_count": null,
      "outputs": []
    },
    {
      "cell_type": "code",
      "source": [
        "# agregar codigo desde acá"
      ],
      "metadata": {
        "id": "BTyLmUy0ybZd"
      },
      "execution_count": null,
      "outputs": []
    },
    {
      "cell_type": "code",
      "source": [],
      "metadata": {
        "id": "hZO6z6aTxntw"
      },
      "execution_count": null,
      "outputs": []
    },
    {
      "cell_type": "markdown",
      "source": [
        "### **2. Descriptivo**"
      ],
      "metadata": {
        "id": "1sD_yeUAtnAK"
      }
    },
    {
      "cell_type": "markdown",
      "source": [
        "**Notas:**\n",
        "\n",
        "*   Usar lo desarrollado en clase.\n",
        "*   Para seleccionar las variables pueden hacer uso de df=df[variables_elegidas] donde variables_elegidas es una lista con los nombres de las variables.\n",
        "*   si necesitan mayor detalle de la libreria, colocar \"?\" luego de la sentencia y ejecutar para visualizar el help, o en todo caso recurrir a google.\n",
        "\n"
      ],
      "metadata": {
        "id": "zMCgZw7x1bO4"
      }
    },
    {
      "cell_type": "code",
      "source": [
        "# agregar codigo desde aca"
      ],
      "metadata": {
        "id": "ZuW2_Xrh1vrK"
      },
      "execution_count": null,
      "outputs": []
    },
    {
      "cell_type": "code",
      "source": [],
      "metadata": {
        "id": "ufiNdIaIxcyK"
      },
      "execution_count": null,
      "outputs": []
    },
    {
      "cell_type": "markdown",
      "source": [
        "### **3. Insight**"
      ],
      "metadata": {
        "id": "pyfOt08Kd2GA"
      }
    },
    {
      "cell_type": "markdown",
      "source": [
        "Realizar un bosquejo de las 3 principales insight que se puede obtener de los datos de la base cargada."
      ],
      "metadata": {
        "id": "4SK_KV0_fFfZ"
      }
    },
    {
      "cell_type": "markdown",
      "source": [
        "#### Escriba aqui sus 3 recomendaciones.\n",
        "\n",
        "1.   Elemento de la lista\n",
        "2.   Elemento de la lista\n",
        "3.   Elemento de la lista\n",
        "\n"
      ],
      "metadata": {
        "id": "RqNAJw_Sx6ji"
      }
    }
  ]
}